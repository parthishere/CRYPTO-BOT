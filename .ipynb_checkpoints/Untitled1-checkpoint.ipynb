{
 "cells": [
  {
   "cell_type": "code",
   "execution_count": 16,
   "id": "aee51b0a",
   "metadata": {},
   "outputs": [],
   "source": [
    "import hashlib\n",
    "from market_maker import hotbit\n",
    "import requests\n",
    "\n",
    "\n",
    "hb = hotbit.Hotbit()\n",
    "ORDER_PUT_LIMIT = \"https://api.hotbit.pro/v2/p2/order.put_limit\" # Limit Order Transaction\n"
   ]
  },
  {
   "cell_type": "code",
   "execution_count": null,
   "id": "d8898f35",
   "metadata": {},
   "outputs": [],
   "source": []
  },
  {
   "cell_type": "code",
   "execution_count": null,
   "id": "d0425716",
   "metadata": {},
   "outputs": [],
   "source": [
    "\n"
   ]
  },
  {
   "cell_type": "code",
   "execution_count": 20,
   "id": "9c7c3451",
   "metadata": {},
   "outputs": [
    {
     "name": "stdout",
     "output_type": "stream",
     "text": [
      "\n",
      "\n",
      "sign_string: amount=1&api_key=34e2bb5d-2047-8ab1-67395b7934a798c3&isfee=0&market=CTS/USDT&price=2&side=1&secret_key=bce1deba50f071675406d0e83efcfcc2\n",
      "\n",
      "hashed sign string: 5DEA6344D61CDF6E0B2C1D6F0F167638\n",
      "\n",
      "{\"error\": null, \"result\": {\"deal_fee\": \"0\", \"id\": 66784258500, \"market\": \"CTSUSDT\", \"freeze\": \"1\", \"deal_stock\": \"0\", \"source\": \"27.61.183.198\", \"mtime\": 1637249699.044379, \"deal_money\": \"0\", \"fee_stock\": \"\", \"ctime\": 1637249699.044379, \"type\": 1, \"taker_fee\": \"0.003\", \"maker_fee\": \"-0.003\", \"deal_fee_alt\": \"0\", \"alt_fee\": \"0\", \"side\": 1, \"user\": 2657492, \"amount\": \"1\", \"price\": \"2\", \"left\": \"1\", \"status\": 0}, \"id\": 205661530}\n"
     ]
    },
    {
     "data": {
      "text/plain": [
       "(None, False, False)"
      ]
     },
     "execution_count": 20,
     "metadata": {},
     "output_type": "execute_result"
    }
   ],
   "source": [
    "import hashlib, requests\n",
    "\n",
    "api_key = \"34e2bb5d-2047-8ab1-67395b7934a798c3\"\n",
    "secret_key = \"bce1deba50f071675406d0e83efcfcc2\"\n",
    "market = \"CTS/USDT\"\n",
    "side = 1\n",
    "amount = 1\n",
    "price=2\n",
    "\n",
    "isfee=0\n",
    "\n",
    "\n",
    "url = \"https://api.hotbit.io/v2/p2/order.put_limit\"\n",
    "\n",
    "sign_string = \"amount=\" + str(amount) + \"&api_key=\" + str(api_key) +  \"&isfee=0&market=\" +  str(market) +  \"&price=\" + str(price) + \"&side=\" + str(side) + \"&secret_key=\" + str(secret_key)\n",
    "print (\"\\n\\nsign_string: \" + str(sign_string )  )\n",
    "\n",
    "sign = hashlib.md5(sign_string.encode('utf-8')).hexdigest()\n",
    "sign = sign.upper()\n",
    "print (\"\\nhashed sign string: \" + str(sign)  )\n",
    "\n",
    "\n",
    "body = {\n",
    "  \"api_key\" : str(api_key), \n",
    "  \"amount\" : amount,\n",
    "  \"isfee\" : 0 ,\n",
    "  \"market\" :   str(market),\n",
    "  \"price\" : price,\n",
    "  \"side\" : side,\n",
    "  \"sign\": str(sign)   }\n",
    "\n",
    "\n",
    "params = \"?amount=\" + str(amount) + \"&api_key=\" + str(api_key) +  \"&isfee=0&market=\" +  str(market) +  \"&price=\" + str(price) + \"&side=\" + str(side) + \"&sign=\" + str(sign)\n",
    "\n",
    "response = requests.request('POST', url, data = body )\n",
    "\n",
    "\n",
    "print (\"\\n\"+response.text),True if SIGN == sign else False, sign_string == RAW"
   ]
  },
  {
   "cell_type": "code",
   "execution_count": null,
   "id": "5d36f805",
   "metadata": {},
   "outputs": [],
   "source": []
  },
  {
   "cell_type": "code",
   "execution_count": null,
   "id": "3a095fd6",
   "metadata": {},
   "outputs": [],
   "source": []
  },
  {
   "cell_type": "code",
   "execution_count": null,
   "id": "1f7c2766",
   "metadata": {},
   "outputs": [],
   "source": [
    "\n",
    "\n",
    "hashlib.md5().digest()\n",
    "SIGN = hashlib.md5()\n",
    "RAW = str(f\"amount={amount}&api_key={api_key}&isfee={isfee}&market={market}&price={price}&secret_key={secret_key}&side={side}\")\n",
    "SIGN.update(RAW.encode('utf-8'))\n",
    "SIGN.digest()\n",
    "#########################################\n",
    "print (\"\\nunhashed sign string: \" + str(RAW)  )\n",
    "SIGN = str(SIGN.hexdigest()).upper()\n",
    "print (\"\\nhashed sign string: \" + str(SIGN)  )\n",
    "\n",
    "sign = hb.get_sign(api_key=api_key, secret_key=secret_key, market=market, side=side, amount=amount, price=price, isfee=isfee)\n",
    "print(sign)\n",
    "params = \"api_key={}&market={}&side=1&amount={}&price={}&sign={}\".format(api_key, market, amount, price, SIGN)\n",
    "response = requests.post(ORDER_PUT_LIMIT, data=params, headers=hotbit.HEADERS)\n",
    "\n",
    "print(\"\\nresponse 1: \"+str(response.json()))"
   ]
  }
 ],
 "metadata": {
  "kernelspec": {
   "display_name": "Python 3 (ipykernel)",
   "language": "python",
   "name": "python3"
  },
  "language_info": {
   "codemirror_mode": {
    "name": "ipython",
    "version": 3
   },
   "file_extension": ".py",
   "mimetype": "text/x-python",
   "name": "python",
   "nbconvert_exporter": "python",
   "pygments_lexer": "ipython3",
   "version": "3.8.7"
  }
 },
 "nbformat": 4,
 "nbformat_minor": 5
}
