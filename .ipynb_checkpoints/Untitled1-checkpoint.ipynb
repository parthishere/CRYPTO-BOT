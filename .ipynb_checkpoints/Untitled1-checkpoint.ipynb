{
 "cells": [
  {
   "cell_type": "code",
   "execution_count": 11,
   "id": "aee51b0a",
   "metadata": {},
   "outputs": [
    {
     "data": {
      "text/plain": [
       "'ACEA8DACCD1B671DC5620D8307271942'"
      ]
     },
     "execution_count": 11,
     "metadata": {},
     "output_type": "execute_result"
    }
   ],
   "source": [
    "import hashlib\n",
    "\n",
    "api_key = \"34e2bb5d-2047-8ab1-67395b7934a798c3\"\n",
    "secret_key = \"bce1deba50f071675406d0e83efcfcc2\"\n",
    "market = \"CTS/USDT\"\n",
    "offset=0\n",
    "limit=50\n",
    "\n",
    "hashlib.md5().digest()\n",
    "SIGN = hashlib.md5()\n",
    "RAW = str(\"api_key={}&limit={}&market={}&offset={}&secret_key={}\".format(api_key, limit, market, offset, secret_key))\n",
    "SIGN.update(RAW.encode('utf-8'))\n",
    "SIGN.digest()\n",
    "#########################################\n",
    "\n",
    "SIGN = str(SIGN.hexdigest()).upper()\n",
    "SIGN"
   ]
  },
  {
   "cell_type": "code",
   "execution_count": 12,
   "id": "d8898f35",
   "metadata": {},
   "outputs": [
    {
     "name": "stdout",
     "output_type": "stream",
     "text": [
      "{'error': None, 'result': {'CTSUSDT': {'limit': 50, 'offset': 0, 'total': 0, 'records': None}}, 'id': 12611399}\n"
     ]
    }
   ],
   "source": [
    "reposnse = requests.post(\"https://api.hotbit.io/api/v1/order.pending\", data=f'api_key={api_key}&market=CTS/USDT&sign={SIGN}&offset=0&limit=50')\n",
    "print(reposnse.json())"
   ]
  },
  {
   "cell_type": "code",
   "execution_count": 25,
   "id": "09ea8d81",
   "metadata": {},
   "outputs": [
    {
     "name": "stdout",
     "output_type": "stream",
     "text": [
      "{'asset': 'USD', 'market': 'usd', 'secret': 'asb', 'api_key': 'aks', 'offset': 18, 'limit': 100}\n",
      "['api_key', 'asset', 'limit', 'market', 'offset', 'secret']\n"
     ]
    },
    {
     "ename": "UnboundLocalError",
     "evalue": "local variable 'stri' referenced before assignment",
     "output_type": "error",
     "traceback": [
      "\u001b[1;31m---------------------------------------------------------------------------\u001b[0m",
      "\u001b[1;31mUnboundLocalError\u001b[0m                         Traceback (most recent call last)",
      "\u001b[1;32m~\\AppData\\Local\\Temp/ipykernel_2188/686463441.py\u001b[0m in \u001b[0;36m<module>\u001b[1;34m\u001b[0m\n\u001b[0;32m      7\u001b[0m \u001b[1;33m\u001b[0m\u001b[0m\n\u001b[0;32m      8\u001b[0m     \u001b[0mprint\u001b[0m\u001b[1;33m(\u001b[0m\u001b[0mstri\u001b[0m\u001b[1;33m)\u001b[0m\u001b[1;33m\u001b[0m\u001b[1;33m\u001b[0m\u001b[0m\n\u001b[1;32m----> 9\u001b[1;33m \u001b[0mfun\u001b[0m\u001b[1;33m(\u001b[0m\u001b[0masset\u001b[0m\u001b[1;33m=\u001b[0m\u001b[1;34m\"USD\"\u001b[0m\u001b[1;33m,\u001b[0m \u001b[0mmarket\u001b[0m\u001b[1;33m=\u001b[0m\u001b[1;34m\"usd\"\u001b[0m\u001b[1;33m,\u001b[0m \u001b[0msecret\u001b[0m\u001b[1;33m=\u001b[0m\u001b[1;34m\"asb\"\u001b[0m\u001b[1;33m,\u001b[0m \u001b[0mapi_key\u001b[0m\u001b[1;33m=\u001b[0m\u001b[1;34m'aks'\u001b[0m\u001b[1;33m,\u001b[0m \u001b[0moffset\u001b[0m\u001b[1;33m=\u001b[0m\u001b[1;36m18\u001b[0m\u001b[1;33m,\u001b[0m \u001b[0mlimit\u001b[0m\u001b[1;33m=\u001b[0m\u001b[1;36m100\u001b[0m\u001b[1;33m)\u001b[0m\u001b[1;33m\u001b[0m\u001b[1;33m\u001b[0m\u001b[0m\n\u001b[0m",
      "\u001b[1;32m~\\AppData\\Local\\Temp/ipykernel_2188/686463441.py\u001b[0m in \u001b[0;36mfun\u001b[1;34m(*args, **kwargs)\u001b[0m\n\u001b[0;32m      4\u001b[0m     \u001b[0mprint\u001b[0m\u001b[1;33m(\u001b[0m\u001b[0mkwars\u001b[0m\u001b[1;33m)\u001b[0m\u001b[1;33m\u001b[0m\u001b[1;33m\u001b[0m\u001b[0m\n\u001b[0;32m      5\u001b[0m     \u001b[1;32mfor\u001b[0m \u001b[0mi\u001b[0m \u001b[1;32min\u001b[0m \u001b[0mkwars\u001b[0m\u001b[1;33m:\u001b[0m\u001b[1;33m\u001b[0m\u001b[1;33m\u001b[0m\u001b[0m\n\u001b[1;32m----> 6\u001b[1;33m         \u001b[0mstri\u001b[0m \u001b[1;33m+=\u001b[0m \u001b[1;34mf\"{i}={kwargs[i]}\"\u001b[0m\u001b[1;33m\u001b[0m\u001b[1;33m\u001b[0m\u001b[0m\n\u001b[0m\u001b[0;32m      7\u001b[0m \u001b[1;33m\u001b[0m\u001b[0m\n\u001b[0;32m      8\u001b[0m     \u001b[0mprint\u001b[0m\u001b[1;33m(\u001b[0m\u001b[0mstri\u001b[0m\u001b[1;33m)\u001b[0m\u001b[1;33m\u001b[0m\u001b[1;33m\u001b[0m\u001b[0m\n",
      "\u001b[1;31mUnboundLocalError\u001b[0m: local variable 'stri' referenced before assignment"
     ]
    }
   ],
   "source": [
    "def fun(*args, **kwargs):\n",
    "    print(kwargs)\n",
    "    kwars = sorted(kwargs)\n",
    "    print(kwars)\n",
    "    stri=\"\"\n",
    "    for i in kwars:\n",
    "        stri += f\"{i}={kwargs[i]}\"  \n",
    "    print(stri)\n",
    "fun(asset=\"USD\", market=\"usd\", secret=\"asb\", api_key='aks', offset=18, limit=100)"
   ]
  },
  {
   "cell_type": "code",
   "execution_count": null,
   "id": "a9c8a559",
   "metadata": {},
   "outputs": [],
   "source": []
  }
 ],
 "metadata": {
  "kernelspec": {
   "display_name": "Python 3 (ipykernel)",
   "language": "python",
   "name": "python3"
  },
  "language_info": {
   "codemirror_mode": {
    "name": "ipython",
    "version": 3
   },
   "file_extension": ".py",
   "mimetype": "text/x-python",
   "name": "python",
   "nbconvert_exporter": "python",
   "pygments_lexer": "ipython3",
   "version": "3.8.7"
  }
 },
 "nbformat": 4,
 "nbformat_minor": 5
}
