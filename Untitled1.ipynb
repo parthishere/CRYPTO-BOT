{
 "cells": [
  {
   "cell_type": "code",
   "execution_count": 11,
   "id": "aee51b0a",
   "metadata": {},
   "outputs": [
    {
     "data": {
      "text/plain": [
       "'ACEA8DACCD1B671DC5620D8307271942'"
      ]
     },
     "execution_count": 11,
     "metadata": {},
     "output_type": "execute_result"
    }
   ],
   "source": [
    "import hashlib\n",
    "\n",
    "api_key = \"34e2bb5d-2047-8ab1-67395b7934a798c3\"\n",
    "secret_key = \"bce1deba50f071675406d0e83efcfcc2\"\n",
    "market = \"CTS/USDT\"\n",
    "offset=0\n",
    "limit=50\n",
    "\n",
    "hashlib.md5().digest()\n",
    "SIGN = hashlib.md5()\n",
    "RAW = str(\"api_key={}&limit={}&market={}&offset={}&secret_key={}\".format(api_key, limit, market, offset, secret_key))\n",
    "SIGN.update(RAW.encode('utf-8'))\n",
    "SIGN.digest()\n",
    "#########################################\n",
    "\n",
    "SIGN = str(SIGN.hexdigest()).upper()\n",
    "SIGN"
   ]
  },
  {
   "cell_type": "code",
   "execution_count": 12,
   "id": "d8898f35",
   "metadata": {},
   "outputs": [
    {
     "name": "stdout",
     "output_type": "stream",
     "text": [
      "{'error': None, 'result': {'CTSUSDT': {'limit': 50, 'offset': 0, 'total': 0, 'records': None}}, 'id': 12611399}\n"
     ]
    }
   ],
   "source": [
    "reposnse = requests.post(\"https://api.hotbit.io/api/v1/order.pending\", data=f'api_key={api_key}&market=CTS/USDT&sign={SIGN}&offset=0&limit=50')\n",
    "print(reposnse.json())"
   ]
  },
  {
   "cell_type": "code",
   "execution_count": 37,
   "id": "d0425716",
   "metadata": {},
   "outputs": [
    {
     "name": "stdout",
     "output_type": "stream",
     "text": [
      "{'asset': 'USD', 'market': 'usd', 'secret': 'asb', 'api_key': 'aks', 'offset': 18, 'limit': 100}\n",
      "['api_key', 'asset', 'limit', 'market', 'offset', 'secret']\n",
      "api_key=aks&asset=USD&limit=100&market=usd&offset=18&secret=asb\n"
     ]
    }
   ],
   "source": [
    "def fun(*args, **kwargs):\n",
    "    print(kwargs)\n",
    "    kwars = sorted(kwargs)\n",
    "    print(kwars)\n",
    "    stri=\"\"\n",
    "    for i in kwars:\n",
    "        stri += f\"{i}={kwargs[i]}&\"  \n",
    "    print(stri[:-1])\n",
    "fun(asset=\"USD\", market=\"usd\", secret=\"asb\", api_key='aks', offset=18, limit=100)"
   ]
  },
  {
   "cell_type": "code",
   "execution_count": null,
   "id": "9c7c3451",
   "metadata": {},
   "outputs": [],
   "source": []
  }
 ],
 "metadata": {
  "kernelspec": {
   "display_name": "Python 3 (ipykernel)",
   "language": "python",
   "name": "python3"
  },
  "language_info": {
   "codemirror_mode": {
    "name": "ipython",
    "version": 3
   },
   "file_extension": ".py",
   "mimetype": "text/x-python",
   "name": "python",
   "nbconvert_exporter": "python",
   "pygments_lexer": "ipython3",
   "version": "3.8.7"
  }
 },
 "nbformat": 4,
 "nbformat_minor": 5
}
