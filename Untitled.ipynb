{
 "cells": [
  {
   "cell_type": "code",
   "execution_count": 1,
   "id": "77a60efd",
   "metadata": {},
   "outputs": [],
   "source": [
    "import mysql.connector"
   ]
  },
  {
   "cell_type": "code",
   "execution_count": 3,
   "id": "7bf607c3",
   "metadata": {},
   "outputs": [
    {
     "name": "stdout",
     "output_type": "stream",
     "text": [
      "('information_schema',)\n",
      "('mysql',)\n",
      "('performance_schema',)\n",
      "('phpmyadmin',)\n",
      "('root',)\n",
      "('test',)\n"
     ]
    }
   ],
   "source": [
    "mydb = mysql.connector.connect(host=\"localhost\", user=\"root\", passwd=\"1234\")\n",
    "\n",
    "mycursor = mydb.cursor()\n",
    "mycursor.execute(\"show databases\")\n",
    "\n",
    "for i in mycursor:\n",
    "    print(i)"
   ]
  },
  {
   "cell_type": "code",
   "execution_count": null,
   "id": "17f6462e",
   "metadata": {},
   "outputs": [],
   "source": [
    "mydb = mysql.connector.connect(host=\"localhost\", user=\"root\", passwd=\"1234\", database=\"root\")\n",
    "\n",
    "mycursor = mydb.cursor()\n",
    "mycursor.execute(\"show databases\")\n",
    "\n",
    "for i in mycursor:\n",
    "    print(i)"
   ]
  },
  {
   "cell_type": "code",
   "execution_count": 1,
   "id": "899624a2",
   "metadata": {},
   "outputs": [
    {
     "name": "stdout",
     "output_type": "stream",
     "text": [
      "C:\\Users\\parth\\All Data\\crypto bot\n"
     ]
    }
   ],
   "source": [
    "import requests\n",
    "import hashlib\n",
    "from pathlib import Path\n",
    "import os\n",
    "import dotenv\n",
    "import mysql.connector\n",
    "from pprint import pprint\n",
    "import settings\n",
    "\n",
    "# mydb = mysql.connector.connect(host=\"localhost\", user=\"root\", passwd=\"1234\")\n",
    "\n",
    "SERVER_TIME = \"https://api.hotbit.io/api/v1/server.time\"\n",
    "BALANCE_QUERY = \"https://api.hotbit.io/api/v1/balance.query\"\n",
    "BALANCE_HISTORY = \"https://api.hotbit.io/api/v1/balance.history\"\n",
    "ASSETS_LIST = \"https://api.hotbit.io/api/v1/asset.list\"\n",
    "MARKET_LIST = \"https://api.hotbit.io/api/v1/market.list\"\n",
    "MARKET_LAST = \"https://api.hotbit.io/api/v1/market.last\"\n",
    "USER_DEALS = \"https://api.hotbit.io/api/v1/market.user_deals\"\n",
    "STATUS_TODAY = \"https://api.hotbit.io/api/v1/market.status_today\"\n",
    "MARKET_24_HR = \"https://api.hotbit.io/api/v1/market.status24h\"\n",
    "MARKET_SUMMERY = \"https://api.hotbit.io/api/v1/market.summary\"\n",
    "\n",
    "INPUT_LOWER_RANGE = 1.15131\n",
    "INPUT_UPPER_RANGE = 1.15129\n",
    "\n",
    "PARAMS, PARAMS2 = None, None\n",
    "\n",
    "def get_params():\n",
    "    global PARAMS, PARAMS2\n",
    "    BASE_DIR = Path(__file__).resolve().parent\n",
    "    print(BASE_DIR)\n",
    "    dotenv_file = os.path.join(BASE_DIR, \".env\")\n",
    "    if os.path.isfile(dotenv_file):\n",
    "        dotenv.load_dotenv(dotenv_file)\n",
    "\n",
    "    hashlib.md5().digest()\n",
    "    SIGN = hashlib.md5()\n",
    "\n",
    "    SECRET_KEY = os.environ['secret_key']\n",
    "    API_KEY = os.environ['api_key']\n",
    "    ASSETS = os.environ['assets']\n",
    "\n",
    "    RAW = str(\"api_key={}&assets={}&secret_key={}\".format(API_KEY, ASSETS, SECRET_KEY))\n",
    "    SIGN.update(RAW.encode('utf-8'))\n",
    "    SIGN.digest()\n",
    "\n",
    "    SIGN = str(SIGN.hexdigest()).upper()\n",
    "\n",
    "    PARAMS2 = f\"api_key={API_KEY}&assets={ASSETS}&sign={SIGN}\"\n",
    "    PARAMS = \"api_key={}&sign={}&assets={}\".format(API_KEY, SIGN, ASSETS)"
   ]
  },
  {
   "cell_type": "code",
   "execution_count": 2,
   "id": "3969ba63",
   "metadata": {},
   "outputs": [],
   "source": [
    "def get_input_range(lower_range=INPUT_UPPER_RANGE, upper_range=INPUT_UPPER_RANGE):\n",
    "    global INPUT_LOWER_RANGE, INPUT_UPPER_RANGE\n",
    "    INPUT_UPPER_RANGE = upper_range\n",
    "    INPUT_LOWER_RANGE = lower_range\n",
    "    CRYPTO_CURRENT_VALUE = float(requests.get(\"https://api.hotbit.io/api/v1/market.last?market=CTS/USDT\", data=PARAMS).json().get('result'))\n",
    "    if CRYPTO_CURRENT_VALUE < INPUT_LOWER_RANGE or CRYPTO_CURRENT_VALUE > INPUT_UPPER_RANGE:\n",
    "        raise Exception(\"Range should be bounded to crypto current value\")\n",
    "\n",
    "def get_server_time():\n",
    "    return requests.get(SERVER_TIME).json()\n",
    "\n",
    "\n",
    "class Account():\n",
    "    \n",
    "    def __init__(self):\n",
    "        pass\n",
    "\n",
    "    def get_account_status(self):\n",
    "        pass\n",
    "    \n",
    "    def get_balance_history(self, business, start_time, end_time, offset, limit):\n",
    "        '''\n",
    "        | Name of Method | Type of Method | Description |\n",
    "        | balance.history | post  | Obtain the records regarding the changes in user assets |\n",
    "        '''\n",
    "        \n",
    "        parameter_for_history = \"api_key={}&sign={}&assets={}&business={}&start_time={}&end_time={}&offset={}&limit={}\"\n",
    "        response = requests.post(BALANCE_HISTORY, data=parameter_for_history )\n",
    "        return response.json()\n",
    "\n",
    "    def get_balance_query(self):\n",
    "        '''\n",
    "        | Name of Method | Type of Method | Description |\n",
    "        | balance.query | post  | Obtain User Assets |  \n",
    "        '''\n",
    "\n",
    "        response = requests.post(BALANCE_QUERY, data=PARAMS)\n",
    "        return response.json()\n",
    "\n",
    "\n",
    "\n",
    "class Order():\n",
    "    \n",
    "    def __init__(self):\n",
    "        pass\n",
    "    \n",
    "    def check_market_open(self):\n",
    "        resopose = requests.get()\n",
    "    \n",
    "    def sell(self):\n",
    "        params = \"api_key={}&sign={}&market={}&side={}&amount={}&price={}&isfee={}\"\n",
    "        response = requests.post(\"https://api.hotbit.io/api/v1/order.put_limit\", data=params)\n",
    "    \n",
    "    def buy(self):\n",
    "        params = \"api_key={}&sign={}&market={}&side={}&amount={}&price={}&isfee={}\"\n",
    "        response = requests.post(\"https://api.hotbit.io/api/v1/order.put_limit\", data=params)\n",
    "    \n",
    "    def order_cancel(self, order_id):\n",
    "        params = \"api_key={}&sign={}&market={}&order_id={}\"\n",
    "        response = requests.post(\"https://api.hotbit.io/api/v1/order.cancel\", data=params)\n",
    "\n",
    "    def bulk_cancel(self, orders_id):\n",
    "        params = \"api_key={}&sign={}&market={}&orders_id={}\"\n",
    "        response = requests.post(\"https://api.hotbit.io/api/v1/order.batch_cancel\", data=params)\n",
    "\n",
    "    def order_detail(self, order_id, offset=settings.OFFSET):\n",
    "        params = \"api_key={}&sign={}&market={}&orders_id={}\"\n",
    "        response = requests.post(\"https://api.hotbit.io/api/v1/order.deals\", data=params)\n",
    "    \n",
    "    def order_status(self, order_id):\n",
    "        if requests.post(\"https://api.hotbit.io/api/v1/order.finished_detail\"):\n",
    "            return \"Finished\"\n",
    "        if requests.post(\"https://api.hotbit.io/api/v1/order.pending\"):\n",
    "            return \"Pending\"\n",
    "    \n",
    "    def check_pending_orders(self):\n",
    "        params = \"api_key={}&sign={}&market={}&orders_id={}\"\n",
    "        response = requests.post(\"https://api.hotbit.io/api/v1/order.pending\", data=params)\n",
    "        \n",
    "    def order_finished(self):\n",
    "        params = None\n",
    "        reponse = requests.post(\"https://api.hotbit.io/api/v1/order.finished\", data=params)\n",
    "           \n",
    "        \n",
    "        \n",
    "class Market():\n",
    "    \n",
    "    def __init__(self):\n",
    "        pass\n",
    "\n",
    "    def market_status_today(self):\n",
    "        crypto = \"CTS\"\n",
    "        response = requests.get(\"https://api.hotbit.io/api/v1/market.status_today?market=CTS/USDT\")\n",
    "        return response.json()\n",
    "   \n",
    " \n",
    "    def market_summery(self):\n",
    "        crypto = \"CTS/USDT\"\n",
    "        response = requests.get(\"https://api.hotbit.io/api/v1/market.summary?markets=CTS/USDT\")\n",
    "        return response.json()\n",
    "  \n",
    "    \n",
    "    def market_status_24h(self):\n",
    "        crypto=\"CTS/USDT\"\n",
    "        response = requests.get(\"https://api.hotbit.io/api/v1/market.status_today?market=CTS/USDT\")\n",
    "        return response.json()\n",
    "\n",
    "\n",
    "    def market_kline(self):\n",
    "        crypto = \"CTS/USDT\"\n",
    "        start_time = 0\n",
    "        end_time = 0\n",
    "        response = requests.get(\"https://api.hotbit.io/api/v1/market.kline?market=ETH/BTC&start_time=1521100000&end_time=1521101193&interval=60\") \n",
    "        return response.json()\n",
    "    \n",
    "    def market_last_value(self, market=settings.MARKET):\n",
    "        params = None\n",
    "        reponse = requests.get(\"https://api.hotbit.io/api/v1/market.last?market=CTS/USDT\", data=PARAMS)\n",
    "        return reponse.json()\n",
    "\n"
   ]
  },
  {
   "cell_type": "code",
   "execution_count": 4,
   "id": "45c3b9a2",
   "metadata": {},
   "outputs": [
    {
     "data": {
      "text/plain": [
       "{'error': None,\n",
       " 'result': {'open': '1.5061',\n",
       "  'last': '1.5',\n",
       "  'high': '1.5063',\n",
       "  'low': '1.35',\n",
       "  'volume': '167346.69',\n",
       "  'deal': '241578.50038'},\n",
       " 'id': 172926892}"
      ]
     },
     "execution_count": 4,
     "metadata": {},
     "output_type": "execute_result"
    }
   ],
   "source": [
    "market = Market()\n",
    "market.market_status_today()"
   ]
  },
  {
   "cell_type": "code",
   "execution_count": 43,
   "id": "7db4db5f",
   "metadata": {},
   "outputs": [],
   "source": [
    "import time"
   ]
  },
  {
   "cell_type": "code",
   "execution_count": 46,
   "id": "3cfc56be",
   "metadata": {},
   "outputs": [
    {
     "data": {
      "text/plain": [
       "time.struct_time(tm_year=2021, tm_mon=10, tm_mday=25, tm_hour=2, tm_min=57, tm_sec=15, tm_wday=0, tm_yday=298, tm_isdst=0)"
      ]
     },
     "execution_count": 46,
     "metadata": {},
     "output_type": "execute_result"
    }
   ],
   "source": [
    "time.localtime()"
   ]
  },
  {
   "cell_type": "code",
   "execution_count": null,
   "id": "f87ab699",
   "metadata": {},
   "outputs": [],
   "source": []
  }
 ],
 "metadata": {
  "kernelspec": {
   "display_name": "Python 3 (ipykernel)",
   "language": "python",
   "name": "python3"
  },
  "language_info": {
   "codemirror_mode": {
    "name": "ipython",
    "version": 3
   },
   "file_extension": ".py",
   "mimetype": "text/x-python",
   "name": "python",
   "nbconvert_exporter": "python",
   "pygments_lexer": "ipython3",
   "version": "3.8.7"
  }
 },
 "nbformat": 4,
 "nbformat_minor": 5
}
